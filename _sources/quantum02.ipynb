{
 "cells": [
  {
   "cell_type": "markdown",
   "id": "953af553",
   "metadata": {},
   "source": [
    "# **How does Quantum Computing work?** \n",
    "&nbsp; \n",
    "\n",
    "![qchipagain](https://static.scientificamerican.com/sciam/cache/file/93BDB9A2-B9C8-4685-8EBFEBAD98E81753_source.jpg?w=590&h=800&7E9FC52B-E031-447B-BD4DA14BBA4F58BA)\n",
    "\n",
    "```{margin}\n",
    "Credit: Alfred Pasieka Getty Images\n",
    "```\n",
    "&nbsp; \n",
    "\n",
    "In the last section, we learnt about about **qubits** also called **quantum bits**. \n",
    "\n",
    "Just as **atoms** are the *building blocks* for everything around us, **qubits** are the *building blocks* for a quantum computer! \n",
    "\n",
    "If we did not have qubits, we would not be able to do anything with a quantum computer. &nbsp; Qubits are the *quantum objects* that we *need* for Quantum computing. \n",
    "&nbsp;\n",
    "\n",
    "Once we have qubits, we can design a **quantum algorithm** and carry out a **quantum circuit**.<br>\n",
    "\n",
    "*Have you ever heard of the word **\"algorithm\"** before?*\n",
    "An **algorithm** is any *set of instructions* for doing something. **For example**, a recipe for making lasagna is an algorithm! &nbsp; It gives us a *set of instructions* for making lasagna.  \n",
    "\n",
    "You can think of a **quantum circuit** as a list of things that the quantum computer does to control the qubits. \n",
    "**For example**, with lasagna,  our \"circuit\" will be when we actually follow the recipe and make the lasagna. \n",
    "\n",
    "So, whenever we want a quantum computer to *do something*, like add two numbers together or divide two numbers, we need to think of an *algorithm*.<br>Once we know our *algorithm*, we can make and carry out a *circuit*. \n",
    "\n",
    "A quantum circuit *does things* to our quantum objects, which are our *qubits*. &nbsp; But we still need to know the result!&nbsp; That's why at the end of every circuit, we make a **measurement** on the qubits, to see how they turned out. *And that's like tasting the lasagna to see if our recipe was good!*\n",
    "\n",
    "\n",
    "**And this is how Quantum Computing works.** \n",
    "\n",
    "&nbsp; \n",
    "\n",
    "\n",
    "# Short Quiz\n",
    "\n",
    "\n",
    "**Do you remember the steps of Quantum Computing?**\n",
    "\n",
    "```{toggle} \n",
    "1. **Qubits** - We need qubits! These are the ingredients! \n",
    "2. **Quantum algorithm** - A set of instructions on what to do with the ingredients.\n",
    "3. **Quantum circuit** - Actually doing things with our ingredients by following the instructions. \n",
    "4. **Measurement** - Finding out how everything turned out! \n",
    "```\n"
   ]
  }
 ],
 "metadata": {
  "kernelspec": {
   "display_name": "Python 3 (ipykernel)",
   "language": "python",
   "name": "python3"
  },
  "language_info": {
   "codemirror_mode": {
    "name": "ipython",
    "version": 3
   },
   "file_extension": ".py",
   "mimetype": "text/x-python",
   "name": "python",
   "nbconvert_exporter": "python",
   "pygments_lexer": "ipython3",
   "version": "3.8.12"
  }
 },
 "nbformat": 4,
 "nbformat_minor": 5
}
