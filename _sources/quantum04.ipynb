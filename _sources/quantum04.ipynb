{
 "cells": [
  {
   "cell_type": "markdown",
   "id": "4e92ddeb",
   "metadata": {},
   "source": [
    "(quantum-games)=\n",
    "# **Quantum Activities & Games** \n",
    "&nbsp; \n",
    "\n",
    "***Congratulations!*** &nbsp; You've finished this Quantum book and you're ready to have fun! &nbsp; **Here are some activities for you to try.**\n",
    "\n",
    "Feel free to print out this activity book by going to the **down arrow** icon on the top right side of the page and clicking **.pdf**. \n",
    "\n",
    "&nbsp; \n",
    "\n",
    "## Quantum Search \n",
    "\n",
    "&nbsp; \n",
    "![qsearch](1.png)\n",
    "\n",
    "&nbsp; \n",
    "\n",
    "## Quantum Puzzle\n",
    "\n",
    "&nbsp; \n",
    "![qpuzz1](3.png)\n",
    "![qpuzz2](4.png)\n",
    "\n",
    "&nbsp; \n",
    "\n",
    "## Quantum Scramble\n",
    "\n",
    "&nbsp; \n",
    "![qscramble](2.png)\n",
    "\n",
    "&nbsp; \n",
    "\n",
    "## Quantum Dots\n",
    "\n",
    "&nbsp; \n",
    "![qdot](5.png)\n",
    "\n",
    "&nbsp; \n",
    "\n",
    "## Lost Qubits\n",
    "\n",
    "&nbsp; \n",
    "![qlost1](7.png)\n",
    "![qlost2](8.png)\n",
    "\n",
    "&nbsp; \n",
    "\n",
    "## Hot Qubit\n",
    "\n",
    "&nbsp; \n",
    "![qhot](6.png)\n",
    "\n",
    "&nbsp; "
   ]
  }
 ],
 "metadata": {
  "kernelspec": {
   "display_name": "Python 3 (ipykernel)",
   "language": "python",
   "name": "python3"
  },
  "language_info": {
   "codemirror_mode": {
    "name": "ipython",
    "version": 3
   },
   "file_extension": ".py",
   "mimetype": "text/x-python",
   "name": "python",
   "nbconvert_exporter": "python",
   "pygments_lexer": "ipython3",
   "version": "3.8.12"
  }
 },
 "nbformat": 4,
 "nbformat_minor": 5
}
