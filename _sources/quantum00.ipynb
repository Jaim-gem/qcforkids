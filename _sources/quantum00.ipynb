{
 "cells": [
  {
   "cell_type": "markdown",
   "id": "b51ca0e3",
   "metadata": {},
   "source": [
    "# **The Quantum World**\n",
    "&nbsp; \n",
    "\n",
    "Here are some questions that we are going to tackle now. \n",
    "\n",
    "- ***What does the word 'Quantum' mean?*** \n",
    "\n",
    "- ***What makes the Quantum world so interesting?***\n",
    "\n",
    "- ***What is a Quantum computer?***\n",
    "\n",
    "If you want to find out the answers to these questions, watch the video below. \n",
    "\n",
    "&nbsp; \n",
    "\n",
    "\n",
    "(quantum-kids)=\n",
    "# Quantum for Kids: A Video Animation by TTLAB"
   ]
  },
  {
   "cell_type": "code",
   "execution_count": 4,
   "id": "40ec6fed",
   "metadata": {
    "tags": [
     "remove-input"
    ]
   },
   "outputs": [
    {
     "data": {
      "image/jpeg": "[encoded data removed]",
      "text/html": [
       "\n",
       "        <iframe\n",
       "            width=\"900\"\n",
       "            height=\"300\"\n",
       "            src=\"https://www.youtube.com/embed/28uc1QMpsvQ\"\n",
       "            frameborder=\"0\"\n",
       "            allowfullscreen\n",
       "            \n",
       "        ></iframe>\n",
       "        "
      ],
      "text/plain": [
       "<IPython.lib.display.YouTubeVideo at 0x1766ce4cfa0>"
      ]
     },
     "metadata": {},
     "output_type": "display_data"
    }
   ],
   "source": [
    "from IPython.display import YouTubeVideo\n",
    "video=YouTubeVideo(\"28uc1QMpsvQ\", width=800, height=500)\n",
    "display(video)"
   ]
  },
  {
   "cell_type": "markdown",
   "id": "9d940f2e",
   "metadata": {},
   "source": [
    "&nbsp; \n",
    "\n",
    "# Short Quiz\n",
    "\n",
    "***Let's see how much you remember from the video.***<br>\n",
    "\n",
    "*Try to answer these questions* and when you're done, click the *button* to find out if you were right!\n",
    "\n",
    "\n",
    "- **How many quantum behaviours did we talk about in the video?**\n",
    "\n",
    "```{toggle}\n",
    "In the video, we spoke about 3 different quantum behaviours.\n",
    "```\n",
    "\n",
    "- **Do you remember what the quantum behaviours were called?**\n",
    "\n",
    "```{toggle}\n",
    "The 3 quantum behaviours are: Superposition, Interference and Entanglement.\n",
    "Did you get that?\n",
    "```\n",
    "\n",
    "- **What is the name of quantum behaviour that allows quantum objects to be *connected* over very long distances?**\n",
    "\n",
    "```{toggle}\n",
    "That's Entanglement!\n",
    "```\n",
    "\n",
    "- **What do you call the quantum behaviour that allows quantum objects to *add* and *cancel* each other out?**\n",
    "\n",
    "```{toggle}\n",
    "That's Interference!\n",
    "```\n",
    "\n",
    "- **Which is the quantum behaviour that allows quantum objects to be *two different states* *at the same time*?**\n",
    "\n",
    "```{toggle}\n",
    "That's Superposition! \n",
    "If we had a quantum light-bulb, the light-bulb could be 'on' and 'off' at the same time!\n",
    "```\n",
    "\n",
    "\n",
    "***So how many did you get right?***"
   ]
  }
 ],
 "metadata": {
  "kernelspec": {
   "display_name": "Python 3 (ipykernel)",
   "language": "python",
   "name": "python3"
  },
  "language_info": {
   "codemirror_mode": {
    "name": "ipython",
    "version": 3
   },
   "file_extension": ".py",
   "mimetype": "text/x-python",
   "name": "python",
   "nbconvert_exporter": "python",
   "pygments_lexer": "ipython3",
   "version": "3.8.12"
  }
 },
 "nbformat": 4,
 "nbformat_minor": 5
}
