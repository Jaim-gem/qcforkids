{
 "cells": [
  {
   "cell_type": "markdown",
   "id": "d8e78df6",
   "metadata": {},
   "source": [
    "# **What is a Quantum Computer?**\n",
    "&nbsp; \n",
    "\n",
    "![coolqbits](qubits-looking-cool.jpg)\n",
    "```{margin}\n",
    "Credit: IBM \n",
    "```\n",
    "&nbsp; \n",
    "\n",
    "*Remember* from the [video](quantum-kids), we spoke about all those **cool** quantum behaviours that *classical* objects can't do? \n",
    "&nbsp;\n",
    "\n",
    "Those quantum behaviours are: \n",
    "&nbsp; \n",
    "\n",
    "- **Superposition**<br>\n",
    "That's when a quantum object can be in two different *states* at the same time.&nbsp; *If* a light-bulb was *quantum*, it would be able to be *on* **and** *off* at the same time. \n",
    "\n",
    "\n",
    "- **Interference**<br>\n",
    "Interference is when a quantum object can add to another quantum object or cancel the other quantum object out. *If* a ball was *quantum*, it would be able to merge with *another quantum ball* and make a **bigger** ball. *Or*, it would merge the other quantum ball and **disappear all together**! \n",
    "\n",
    "\n",
    "\n",
    "- **Entanglement**\n",
    "Entanglement is when two (or more) quantum objects are *connected* and behave *in sync* with the others, even when they are separated by an **entire country**! \n",
    "\n",
    "&nbsp; \n",
    "\n",
    "***So why can't balls, light-bulbs and anything we can see, behave like quantum objects?***\n",
    "```{toggle} \n",
    "It's because objects tend to show quantum behaviours only if they are *really tiny*.<br>\n",
    "These *tiny quantum objects* are too small for us to see without a **very powerful** microscope.\n",
    "```\n",
    "\n",
    "&nbsp; \n",
    "\n",
    "Our normal computers work by using something called **bits**.&nbsp; ***Bits*** are used to store information and do calculations.<br>\n",
    "*But*, **bits** behave in a *classical* way and do not show the interesting quantum behaviours that we've learnt.\n",
    "\n",
    "For a **Quantum computer**, we need **quantum bits** or **qubits** for short.&nbsp; ***Qubits*** can do quantum things. \n",
    "\n",
    "This means that a quantum computer would be able to do things that normal computers can't: *that's quantum things!*<br>\n",
    "They should be **more powerful** than our normal computers. \n",
    "\n",
    "*The only thing is...* that our quantum computers **do not yet** have the *number of qubits* to be better than our normal computers, but one day *they will*! \n",
    "\n"
   ]
  }
 ],
 "metadata": {
  "kernelspec": {
   "display_name": "Python 3 (ipykernel)",
   "language": "python",
   "name": "python3"
  },
  "language_info": {
   "codemirror_mode": {
    "name": "ipython",
    "version": 3
   },
   "file_extension": ".py",
   "mimetype": "text/x-python",
   "name": "python",
   "nbconvert_exporter": "python",
   "pygments_lexer": "ipython3",
   "version": "3.8.12"
  }
 },
 "nbformat": 4,
 "nbformat_minor": 5
}
